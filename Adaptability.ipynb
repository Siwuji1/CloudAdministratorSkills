# Adaptability.ipynb

# Title: Demonstrating Adaptability
# Description: This notebook demonstrates adaptability in a dynamic environment.

# Adapt to changes in data
data = [1, 2, 3, 4, 5]
for item in data:
    print(f"Processing item: {item}")
    # Adapt to new requirements
    if item % 2 == 0:
        print("Item is even.")
    else:
        print("Item is odd.")
